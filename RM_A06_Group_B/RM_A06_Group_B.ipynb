{
 "cells": [
  {
   "cell_type": "markdown",
   "metadata": {},
   "source": [
    "# Research Methods <br>UHH - Knowledge Technology Research Group - WiSe 2023/2024\n",
    "## Assignment #6 - Bayesian Inference & Hypothesis Testing"
   ]
  },
  {
   "cell_type": "markdown",
   "metadata": {},
   "source": [
    "***\n",
    "### Group: \n",
    "### Names of members: \n",
    "\n",
    "***"
   ]
  },
  {
   "cell_type": "markdown",
   "metadata": {},
   "source": [
    "### Instructions:\n",
    "\n",
    "Please answer the questions below. Copy this notebook and enter your answers underneath each task description, inserting cells as needed. You may use a combination of [python 3](https://www.python.org), [markdown](http://jupyter-notebook.readthedocs.io/en/stable/examples/Notebook/Working%20With%20Markdown%20Cells.html), and [LaTex](https://towardsdatascience.com/write-markdown-latex-in-the-jupyter-notebook-10985edb91fd) to formulate your responses. In order to successfully complete the assignment, you will need the lecture material provided in the [RM moodle course](https://lernen.min.uni-hamburg.de/course/view.php?id=2637), especially L10 & L11.\n",
    "\n",
    "**Make sure to use only a copy of this notebook for your answers instead of a new/blank notebook.**\n",
    "\n",
    "### Grading Criteria:\n",
    "\n",
    "In order to successfully pass this assignment, you will need **at least a total of 70 points out of 100 points**, and every task has to be tackled.\n",
    "\n",
    "### Submission:\n",
    "\n",
    "<span style=\"color: red\">**Please note that the deadline for the submission of this assignment falls on a Monday!**</span>\n",
    "\n",
    "Please upload the following two files **until Monday, January 20, 2025, 20:00 CET (Germany)** together in a .zip archive in moodle:\n",
    "1. a (single) copy of this jupyter notebook containing your answers for all tasks (file extension: .ipynb)\n",
    "2. an [exported PDF document](https://jupyterlab.readthedocs.io/en/stable/user/export.html) of the jupyter notebook (file extension: .pdf)\n",
    "\n",
    "### Presentation:\n",
    "\n",
    "Make sure that each (!) group member takes part in solving this assignment and is prepared to answer questions and/or present solutions from your submitted notebook during our assignment revision meeting scheduled for **Wednesday, January 22, 2025, 10:00 - 13:00 CET (Germany)**.\n",
    "\n",
    "### File Naming:\n",
    "\n",
    "Add the group letter to the file name prior to submission. For example, if your group letter is \"A\" (see group selection in moodle), you would use the following filename: \n",
    "1. RM_A06_Group_A.ipynb \n",
    "2. RM_A06_Group_A.pdf\n",
    "\n",
    "***\n",
    "***"
   ]
  },
  {
   "cell_type": "markdown",
   "metadata": {},
   "source": [
    "#### Task 1 **[40 points] Bayes Parameter Estimation** \n",
    "\n",
    "Please answer each of the following three questions with step-by-step calculations **and thorough answers/explanations**, using python code and suitable plots. \n",
    "1. **Scenario:** You are an astronomer investigating the prevalence of exoplanets around a particular type of star in a nearby galaxy cluster. From extensive surveys, you know that approximately 15% of these stars host an exoplanet. Your telescope’s detection system is quite sensitive: if a star truly has an exoplanet, the system will indicate a detection 90% of the time (true positive rate). However, the system still produces a small fraction of false positives: 5% of stars without exoplanets are incorrectly flagged as having one. Now suppose you receive a detection signal from one star under observation.\n",
    "\n",
    "    **Question:** Using Bayes’ Theorem, calculate the probability that this star truly hosts an exoplanet, given that the telescope indicated a detection.<br><br>\n",
    "\n",
    "2. **Scenario:** You have two identical-looking boxes on your desk, each containing small toy blocks of different colors. Specifically:\n",
    "\n",
    "    - Box A has 4 red blocks and 6 green blocks.<br>\n",
    "    - Box B has 7 red blocks and 3 green blocks.<br><br>\n",
    "\n",
    "    You randomly choose one box (each with 50% probability) and then randomly draw one block from that box.\n",
    "\n",
    "    **Questions:** <br>\n",
    "    (a) What is the probability of drawing a red block?<br>\n",
    "    (b) Given that you drew a red block, what is the probability that it came from Box B?<br><br>\n",
    "\n",
    "3. **Scenario:** You are playing a game of Dungeons & Dragons and facing a main villain controlled by the Dungeon Master (DM). This villain always makes attacks with two weapons, but you only observe the total of the damage rolls (the sum of both dice) on each attack. You know that each weapon die must be one of the four types d6, d8, d10 or d12 (dX = X-sided die) and there is no duplication of weapons—meaning the two dice must be different (for example, the pair could be a d6 and d8, but not two d6s). Your working hypothesis is that the DM is using a d8 and a d10.<br><br>\n",
    "    **Question:** What is the probability that your hypothesis is correct, given the most recent six total damage values (the last six attack rolls) have been [6, 12, 14, 11, 9, 10]?"
   ]
  },
  {
   "cell_type": "code",
   "execution_count": null,
   "metadata": {},
   "outputs": [],
   "source": []
  },
  {
   "cell_type": "markdown",
   "metadata": {},
   "source": [
    "#### Task 2 **[60 points] Savage-Dickey Method**\n",
    "\n",
    "Returning to the Dungeons & Dragons scenario from task 1.3, our goal is now to test and evaluate the hypothesis that the DM uses a combination of the two dice d8 and d10.\n",
    "1. Name one uninformed and one informed prior you would pick for the upcoming hypothesis test and motivate your decision for choosing these priors.<br>\n",
    "2. You now want to follow the Savage-Dickey method for testing your hypothesis that the DM uses the combination of d8 and d10. State $H_0$, $H_1$, $\\theta$ and $\\theta_0$ for this specific case.\n",
    "3. Perform the hypothesis test following the Savage-Dickey method using the **uninformed prior** that you previously chose. Show your calculation steps in python as well as the resulting Bayes factor.<br>\n",
    "4. Repeat the test, but this time using the **informed prior**. Show again intermediate steps and the resulting Bayes factor.<br>\n",
    "5. Analyze, interpret, and compare both test outcomes from subtasks 2.3 and 2.4. Explain how to interpret the Bayes factor and give reasons for potential discrepancies between different kinds of priors.<br>\n",
    "6. Given your test results, would you assume a different dice combination and why? Support your reasoning with a suitable diagram and explain your choice.<br>"
   ]
  },
  {
   "cell_type": "code",
   "execution_count": null,
   "metadata": {},
   "outputs": [],
   "source": []
  }
 ],
 "metadata": {
  "kernelspec": {
   "display_name": "Python 3 (ipykernel)",
   "language": "python",
   "name": "python3"
  },
  "language_info": {
   "codemirror_mode": {
    "name": "ipython",
    "version": 3
   },
   "file_extension": ".py",
   "mimetype": "text/x-python",
   "name": "python",
   "nbconvert_exporter": "python",
   "pygments_lexer": "ipython3",
   "version": "3.12.2"
  }
 },
 "nbformat": 4,
 "nbformat_minor": 4
}
